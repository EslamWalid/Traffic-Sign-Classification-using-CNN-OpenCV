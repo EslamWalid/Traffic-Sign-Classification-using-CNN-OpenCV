{
  "nbformat": 4,
  "nbformat_minor": 0,
  "metadata": {
    "colab": {
      "provenance": []
    },
    "kernelspec": {
      "name": "python3",
      "display_name": "Python 3"
    },
    "language_info": {
      "name": "python"
    }
  },
  "cells": [
    {
      "cell_type": "code",
      "execution_count": null,
      "metadata": {
        "id": "lLoRht3zLpOy"
      },
      "outputs": [],
      "source": [
        "import tensorflow\n",
        "from tensorflow.keras.applications import VGG16 # importing VGG16 model\n",
        "from tensorflow.keras.models import Model\n",
        "from tensorflow.keras.layers import Dropout,Input,Flatten,Dense,MaxPooling2D\n",
        "from tensorflow.keras.preprocessing.image import ImageDataGenerator  # for Data Augumentation"
      ]
    },
    {
      "cell_type": "code",
      "source": [
        "batchsize=64\n",
        "path_train='/content/drive/MyDrive/sign_mobilenet/data/train'\n",
        "path_test='/content/drive/MyDrive/sign_mobilenet/data/test'"
      ],
      "metadata": {
        "id": "WnNDpJxcOxyn"
      },
      "execution_count": null,
      "outputs": []
    },
    {
      "cell_type": "code",
      "source": [
        "train_datagen= ImageDataGenerator(rescale=1./255, rotation_range=0.3,shear_range=0.2,\n",
        "    zoom_range=0.2,width_shift_range=0.2,\n",
        "    height_shift_range=0.2,horizontal_flip=True, validation_split=1/9)\n",
        "\n",
        "train_data= train_datagen.flow_from_directory(path_train,\n",
        "                                target_size=(224,224),batch_size=batchsize,class_mode='categorical',subset='training' )\n",
        "\n",
        "validation_data= train_datagen.flow_from_directory(path_train,\n",
        "                                target_size=(224,224),batch_size=batchsize,class_mode='categorical', subset='validation')"
      ],
      "metadata": {
        "colab": {
          "base_uri": "https://localhost:8080/"
        },
        "id": "Qq3Tz2p9OxwY",
        "outputId": "d6a0b763-a0eb-433c-d69e-252207d908a7"
      },
      "execution_count": null,
      "outputs": [
        {
          "output_type": "stream",
          "name": "stdout",
          "text": [
            "Found 677 images belonging to 1 classes.\n",
            "Found 84 images belonging to 1 classes.\n"
          ]
        }
      ]
    },
    {
      "cell_type": "code",
      "source": [
        "test_datagen = ImageDataGenerator(rescale=1./255)\n",
        "\n",
        "test_data = test_datagen.flow_from_directory(path_test,\n",
        "                                target_size=(224,224),batch_size=batchsize,class_mode='categorical')"
      ],
      "metadata": {
        "colab": {
          "base_uri": "https://localhost:8080/"
        },
        "id": "2MCPbkLQOxuH",
        "outputId": "d468a05f-d244-42c1-d6eb-617511c74f72"
      },
      "execution_count": null,
      "outputs": [
        {
          "output_type": "stream",
          "name": "stdout",
          "text": [
            "Found 79 images belonging to 1 classes.\n"
          ]
        }
      ]
    },
    {
      "cell_type": "code",
      "source": [
        "bmodel = VGG16(include_top=False, weights='imagenet', input_tensor=Input(shape=(224,224,3)))\n",
        "hmodel = bmodel.output\n",
        "hmodel = Flatten()(hmodel)\n",
        "hmodel = Dense(1024, activation='relu')(hmodel)\n",
        "hmodel = Dropout(0.5)(hmodel)\n",
        "hmodel = Dense(2,activation= 'sigmoid')(hmodel)\n",
        "\n",
        "model = Model(inputs=bmodel.input, outputs= hmodel)\n",
        "for layer in bmodel.layers:\n",
        "    layer.trainable = False"
      ],
      "metadata": {
        "colab": {
          "base_uri": "https://localhost:8080/"
        },
        "id": "0KnVfHd7Oxro",
        "outputId": "91d411ed-f378-4ea8-b541-2b42fa960443"
      },
      "execution_count": null,
      "outputs": [
        {
          "output_type": "stream",
          "name": "stdout",
          "text": [
            "Downloading data from https://storage.googleapis.com/tensorflow/keras-applications/vgg16/vgg16_weights_tf_dim_ordering_tf_kernels_notop.h5\n",
            "58889256/58889256 [==============================] - 1s 0us/step\n"
          ]
        }
      ]
    },
    {
      "cell_type": "code",
      "source": [],
      "metadata": {
        "id": "tNhgt6wYQbBv"
      },
      "execution_count": null,
      "outputs": []
    },
    {
      "cell_type": "code",
      "source": [
        "from tensorflow.keras.callbacks import ModelCheckpoint,EarlyStopping, ReduceLROnPlateau"
      ],
      "metadata": {
        "id": "RLBEkCB5OxpP"
      },
      "execution_count": null,
      "outputs": []
    },
    {
      "cell_type": "code",
      "source": [
        "checkpoint = ModelCheckpoint('model_.h5',\n",
        "                            monitor='val_loss',save_best_only=True,verbose=3)\n",
        "\n",
        "earlystop = EarlyStopping(monitor = 'val_loss', patience=20, verbose= 3, restore_best_weights=True)\n",
        "\n",
        "learning_rate = ReduceLROnPlateau(monitor= 'val_loss', patience=20, verbose= 3, )\n",
        "\n",
        "callbacks=[checkpoint,earlystop,learning_rate]"
      ],
      "metadata": {
        "id": "gVSXWOmhOxm3"
      },
      "execution_count": null,
      "outputs": []
    },
    {
      "cell_type": "code",
      "source": [
        "model.compile(optimizer='Adam', loss='categorical_crossentropy',metrics=['accuracy'])\n",
        "\n",
        "model.fit_generator(train_data,steps_per_epoch=train_data.samples//batchsize,\n",
        "                   validation_data=validation_data,\n",
        "                   validation_steps=validation_data.samples//batchsize,\n",
        "                   callbacks=callbacks,\n",
        "                    epochs=100)"
      ],
      "metadata": {
        "colab": {
          "base_uri": "https://localhost:8080/"
        },
        "id": "mWyOrT3POxk3",
        "outputId": "eb1f9fcc-a98e-477e-b376-32a08015c8db"
      },
      "execution_count": null,
      "outputs": [
        {
          "metadata": {
            "tags": null
          },
          "name": "stderr",
          "output_type": "stream",
          "text": [
            "<ipython-input-31-7fdaac157157>:3: UserWarning: `Model.fit_generator` is deprecated and will be removed in a future version. Please use `Model.fit`, which supports generators.\n",
            "  model.fit_generator(train_data,steps_per_epoch=train_data.samples//batchsize,\n"
          ]
        },
        {
          "output_type": "stream",
          "name": "stdout",
          "text": [
            "Epoch 1/100\n",
            "10/10 [==============================] - ETA: 0s - loss: 400.1974 - accuracy: 0.6962 \n",
            "Epoch 1: val_loss did not improve from 60.25803\n",
            "10/10 [==============================] - 156s 15s/step - loss: 400.1974 - accuracy: 0.6962 - val_loss: 109.0472 - val_accuracy: 1.0000 - lr: 0.0010\n",
            "Epoch 2/100\n",
            "10/10 [==============================] - ETA: 0s - loss: 445.6084 - accuracy: 0.6000 \n",
            "Epoch 2: val_loss did not improve from 60.25803\n",
            "10/10 [==============================] - 164s 17s/step - loss: 445.6084 - accuracy: 0.6000 - val_loss: 189.0809 - val_accuracy: 1.0000 - lr: 0.0010\n",
            "Epoch 3/100\n",
            "10/10 [==============================] - ETA: 0s - loss: 445.2487 - accuracy: 0.6689 \n",
            "Epoch 3: val_loss did not improve from 60.25803\n",
            "10/10 [==============================] - 153s 15s/step - loss: 445.2487 - accuracy: 0.6689 - val_loss: 175.5736 - val_accuracy: 1.0000 - lr: 0.0010\n",
            "Epoch 4/100\n",
            "10/10 [==============================] - ETA: 0s - loss: 469.3392 - accuracy: 0.6250 \n",
            "Epoch 4: val_loss did not improve from 60.25803\n",
            "10/10 [==============================] - 165s 17s/step - loss: 469.3392 - accuracy: 0.6250 - val_loss: 228.9091 - val_accuracy: 1.0000 - lr: 0.0010\n",
            "Epoch 5/100\n",
            "10/10 [==============================] - ETA: 0s - loss: 527.3737 - accuracy: 0.6250 \n",
            "Epoch 5: val_loss did not improve from 60.25803\n",
            "10/10 [==============================] - 164s 17s/step - loss: 527.3737 - accuracy: 0.6250 - val_loss: 203.8333 - val_accuracy: 1.0000 - lr: 0.0010\n",
            "Epoch 6/100\n",
            "10/10 [==============================] - ETA: 0s - loss: 568.2670 - accuracy: 0.6587 \n",
            "Epoch 6: val_loss did not improve from 60.25803\n",
            "10/10 [==============================] - 144s 14s/step - loss: 568.2670 - accuracy: 0.6587 - val_loss: 176.0325 - val_accuracy: 1.0000 - lr: 0.0010\n",
            "Epoch 7/100\n",
            "10/10 [==============================] - ETA: 0s - loss: 536.9860 - accuracy: 0.5461 \n",
            "Epoch 7: val_loss improved from 60.25803 to 4.82379, saving model to model_.h5\n",
            "10/10 [==============================] - 150s 15s/step - loss: 536.9860 - accuracy: 0.5461 - val_loss: 4.8238 - val_accuracy: 0.7812 - lr: 0.0010\n",
            "Epoch 8/100\n",
            "10/10 [==============================] - ETA: 0s - loss: 589.5312 - accuracy: 0.5906 \n",
            "Epoch 8: val_loss did not improve from 4.82379\n",
            "10/10 [==============================] - 161s 16s/step - loss: 589.5312 - accuracy: 0.5906 - val_loss: 265.4955 - val_accuracy: 1.0000 - lr: 0.0010\n",
            "Epoch 9/100\n",
            "10/10 [==============================] - ETA: 0s - loss: 573.7104 - accuracy: 0.6531 \n",
            "Epoch 9: val_loss did not improve from 4.82379\n",
            "10/10 [==============================] - 160s 16s/step - loss: 573.7104 - accuracy: 0.6531 - val_loss: 226.3511 - val_accuracy: 1.0000 - lr: 0.0010\n",
            "Epoch 10/100\n",
            "10/10 [==============================] - ETA: 0s - loss: 560.7242 - accuracy: 0.6212 \n",
            "Epoch 10: val_loss did not improve from 4.82379\n",
            "10/10 [==============================] - 143s 14s/step - loss: 560.7242 - accuracy: 0.6212 - val_loss: 65.5408 - val_accuracy: 1.0000 - lr: 0.0010\n",
            "Epoch 11/100\n",
            "10/10 [==============================] - ETA: 0s - loss: 641.9870 - accuracy: 0.5437 \n",
            "Epoch 11: val_loss did not improve from 4.82379\n",
            "10/10 [==============================] - 161s 16s/step - loss: 641.9870 - accuracy: 0.5437 - val_loss: 401.4758 - val_accuracy: 1.0000 - lr: 0.0010\n",
            "Epoch 12/100\n",
            "10/10 [==============================] - ETA: 0s - loss: 735.8085 - accuracy: 0.7167 \n",
            "Epoch 12: val_loss did not improve from 4.82379\n",
            "10/10 [==============================] - 150s 15s/step - loss: 735.8085 - accuracy: 0.7167 - val_loss: 53.3186 - val_accuracy: 1.0000 - lr: 0.0010\n",
            "Epoch 13/100\n",
            "10/10 [==============================] - ETA: 0s - loss: 687.8649 - accuracy: 0.5281 \n",
            "Epoch 13: val_loss did not improve from 4.82379\n",
            "10/10 [==============================] - 155s 16s/step - loss: 687.8649 - accuracy: 0.5281 - val_loss: 123.2935 - val_accuracy: 1.0000 - lr: 0.0010\n",
            "Epoch 14/100\n",
            "10/10 [==============================] - ETA: 0s - loss: 743.5545 - accuracy: 0.6438 \n",
            "Epoch 14: val_loss did not improve from 4.82379\n",
            "10/10 [==============================] - 155s 16s/step - loss: 743.5545 - accuracy: 0.6438 - val_loss: 227.0339 - val_accuracy: 1.0000 - lr: 0.0010\n",
            "Epoch 15/100\n",
            "10/10 [==============================] - ETA: 0s - loss: 797.7399 - accuracy: 0.5656 \n",
            "Epoch 15: val_loss did not improve from 4.82379\n",
            "10/10 [==============================] - 160s 16s/step - loss: 797.7399 - accuracy: 0.5656 - val_loss: 425.4592 - val_accuracy: 1.0000 - lr: 0.0010\n",
            "Epoch 16/100\n",
            "10/10 [==============================] - ETA: 0s - loss: 753.4791 - accuracy: 0.6519 \n",
            "Epoch 16: val_loss did not improve from 4.82379\n",
            "10/10 [==============================] - 150s 15s/step - loss: 753.4791 - accuracy: 0.6519 - val_loss: 40.7942 - val_accuracy: 1.0000 - lr: 0.0010\n",
            "Epoch 17/100\n",
            "10/10 [==============================] - ETA: 0s - loss: 815.4721 - accuracy: 0.5344 \n",
            "Epoch 17: val_loss did not improve from 4.82379\n",
            "10/10 [==============================] - 160s 16s/step - loss: 815.4721 - accuracy: 0.5344 - val_loss: 356.2305 - val_accuracy: 1.0000 - lr: 0.0010\n",
            "Epoch 18/100\n",
            "10/10 [==============================] - ETA: 0s - loss: 964.0148 - accuracy: 0.6625 \n",
            "Epoch 18: val_loss did not improve from 4.82379\n",
            "10/10 [==============================] - 162s 16s/step - loss: 964.0148 - accuracy: 0.6625 - val_loss: 290.8193 - val_accuracy: 1.0000 - lr: 0.0010\n",
            "Epoch 19/100\n",
            "10/10 [==============================] - ETA: 0s - loss: 845.0879 - accuracy: 0.5594 \n",
            "Epoch 19: val_loss did not improve from 4.82379\n",
            "10/10 [==============================] - 160s 16s/step - loss: 845.0879 - accuracy: 0.5594 - val_loss: 279.4170 - val_accuracy: 1.0000 - lr: 0.0010\n",
            "Epoch 20/100\n",
            "10/10 [==============================] - ETA: 0s - loss: 915.5598 - accuracy: 0.6313 \n",
            "Epoch 20: val_loss did not improve from 4.82379\n",
            "10/10 [==============================] - 160s 16s/step - loss: 915.5598 - accuracy: 0.6313 - val_loss: 182.3911 - val_accuracy: 1.0000 - lr: 0.0010\n",
            "Epoch 21/100\n",
            "10/10 [==============================] - ETA: 0s - loss: 939.7147 - accuracy: 0.6000 \n",
            "Epoch 21: val_loss did not improve from 4.82379\n",
            "10/10 [==============================] - 157s 16s/step - loss: 939.7147 - accuracy: 0.6000 - val_loss: 256.8574 - val_accuracy: 1.0000 - lr: 0.0010\n",
            "Epoch 22/100\n",
            "10/10 [==============================] - ETA: 0s - loss: 967.1029 - accuracy: 0.5802 \n",
            "Epoch 22: val_loss did not improve from 4.82379\n",
            "10/10 [==============================] - 149s 15s/step - loss: 967.1029 - accuracy: 0.5802 - val_loss: 404.1211 - val_accuracy: 1.0000 - lr: 0.0010\n",
            "Epoch 23/100\n",
            "10/10 [==============================] - ETA: 0s - loss: 1043.2656 - accuracy: 0.6109 \n",
            "Epoch 23: val_loss did not improve from 4.82379\n",
            "10/10 [==============================] - 151s 15s/step - loss: 1043.2656 - accuracy: 0.6109 - val_loss: 234.5811 - val_accuracy: 1.0000 - lr: 0.0010\n",
            "Epoch 24/100\n",
            "10/10 [==============================] - ETA: 0s - loss: 1037.6549 - accuracy: 0.5906 \n",
            "Epoch 24: val_loss did not improve from 4.82379\n",
            "10/10 [==============================] - 155s 16s/step - loss: 1037.6549 - accuracy: 0.5906 - val_loss: 462.3091 - val_accuracy: 1.0000 - lr: 0.0010\n",
            "Epoch 25/100\n",
            "10/10 [==============================] - ETA: 0s - loss: 1053.5079 - accuracy: 0.5597 \n",
            "Epoch 25: val_loss did not improve from 4.82379\n",
            "10/10 [==============================] - 144s 14s/step - loss: 1053.5079 - accuracy: 0.5597 - val_loss: 237.6953 - val_accuracy: 1.0000 - lr: 0.0010\n",
            "Epoch 26/100\n",
            "10/10 [==============================] - ETA: 0s - loss: 1209.1858 - accuracy: 0.6719 \n",
            "Epoch 26: val_loss did not improve from 4.82379\n",
            "10/10 [==============================] - 161s 16s/step - loss: 1209.1858 - accuracy: 0.6719 - val_loss: 6.0216 - val_accuracy: 0.9375 - lr: 0.0010\n",
            "Epoch 27/100\n",
            "10/10 [==============================] - ETA: 0s - loss: 1075.1970 - accuracy: 0.5219 \n",
            "Epoch 27: val_loss did not improve from 4.82379\n",
            "Restoring model weights from the end of the best epoch: 7.\n",
            "\n",
            "Epoch 27: ReduceLROnPlateau reducing learning rate to 0.00010000000474974513.\n",
            "10/10 [==============================] - 162s 16s/step - loss: 1075.1970 - accuracy: 0.5219 - val_loss: 388.4897 - val_accuracy: 1.0000 - lr: 0.0010\n",
            "Epoch 27: early stopping\n"
          ]
        },
        {
          "output_type": "execute_result",
          "data": {
            "text/plain": [
              "<keras.callbacks.History at 0x7f28fc297460>"
            ]
          },
          "metadata": {},
          "execution_count": 31
        }
      ]
    },
    {
      "cell_type": "code",
      "source": [],
      "metadata": {
        "id": "0Z_8XJyFaYBt"
      },
      "execution_count": null,
      "outputs": []
    }
  ]
}